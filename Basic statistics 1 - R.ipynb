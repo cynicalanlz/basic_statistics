{
 "cells": [
  {
   "cell_type": "code",
   "execution_count": 4,
   "metadata": {
    "collapsed": false
   },
   "outputs": [
    {
     "data": {
      "text/html": [
       "5"
      ],
      "text/latex": [
       "5"
      ],
      "text/markdown": [
       "5"
      ],
      "text/plain": [
       "[1] 5"
      ]
     },
     "execution_count": 4,
     "metadata": {},
     "output_type": "execute_result"
    }
   ],
   "source": [
    "\n",
    "x = c(5, 7, 2, 1, 3, 4, 8, 8, 6, 6)\n",
    "\n",
    "mean(x)"
   ]
  },
  {
   "cell_type": "code",
   "execution_count": 5,
   "metadata": {
    "collapsed": false
   },
   "outputs": [
    {
     "data": {
      "text/html": [
       "<pre class=language-r><code>function (x, ...) \n",
       "NULL</code></pre>"
      ],
      "text/latex": [
       "\\begin{minted}{r}\n",
       "function (x, ...) \n",
       "NULL\n",
       "\\end{minted}"
      ],
      "text/markdown": [
       "```r\n",
       "function (x, ...) \n",
       "NULL\n",
       "```"
      ],
      "text/plain": [
       "function (x, ...) \n",
       "NULL"
      ]
     },
     "execution_count": 5,
     "metadata": {},
     "output_type": "execute_result"
    }
   ],
   "source": [
    "args(mean)"
   ]
  },
  {
   "cell_type": "code",
   "execution_count": 6,
   "metadata": {
    "collapsed": false
   },
   "outputs": [
    {
     "data": {
      "text/html": [
       "\n",
       "<table width=\"100%\" summary=\"page for mean {base}\"><tr><td>mean {base}</td><td style=\"text-align: right;\">R Documentation</td></tr></table>\n",
       "\n",
       "<h2>Arithmetic Mean</h2>\n",
       "\n",
       "<h3>Description</h3>\n",
       "\n",
       "<p>Generic function for the (trimmed) arithmetic mean.\n",
       "</p>\n",
       "\n",
       "\n",
       "<h3>Usage</h3>\n",
       "\n",
       "<pre>\n",
       "mean(x, ...)\n",
       "\n",
       "## Default S3 method:\n",
       "mean(x, trim = 0, na.rm = FALSE, ...)\n",
       "</pre>\n",
       "\n",
       "\n",
       "<h3>Arguments</h3>\n",
       "\n",
       "<table summary=\"R argblock\">\n",
       "<tr valign=\"top\"><td><code>x</code></td>\n",
       "<td>\n",
       "<p>An <span style=\"font-family: Courier New, Courier; color: #666666;\"><b>R</b></span> object.  Currently there are methods for\n",
       "numeric/logical vectors and date,\n",
       "date-time and time interval objects.  Complex vectors\n",
       "are allowed for <code>trim = 0</code>, only.</p>\n",
       "</td></tr>\n",
       "<tr valign=\"top\"><td><code>trim</code></td>\n",
       "<td>\n",
       "<p>the fraction (0 to 0.5) of observations to be\n",
       "trimmed from each end of <code>x</code> before the mean is computed.\n",
       "Values of trim outside that range are taken as the nearest endpoint.\n",
       "</p>\n",
       "</td></tr>\n",
       "<tr valign=\"top\"><td><code>na.rm</code></td>\n",
       "<td>\n",
       "<p>a logical value indicating whether <code>NA</code>\n",
       "values should be stripped before the computation proceeds.</p>\n",
       "</td></tr>\n",
       "<tr valign=\"top\"><td><code>...</code></td>\n",
       "<td>\n",
       "<p>further arguments passed to or from other methods.</p>\n",
       "</td></tr>\n",
       "</table>\n",
       "\n",
       "\n",
       "<h3>Value</h3>\n",
       "\n",
       "<p>If <code>trim</code> is zero (the default), the arithmetic mean of the\n",
       "values in <code>x</code> is computed, as a numeric or complex vector of\n",
       "length one.  If <code>x</code> is not logical (coerced to numeric), numeric\n",
       "(including integer) or complex, <code>NA_real_</code> is returned, with a warning.\n",
       "</p>\n",
       "<p>If <code>trim</code> is non-zero, a symmetrically trimmed mean is computed\n",
       "with a fraction of <code>trim</code> observations deleted from each end\n",
       "before the mean is computed.\n",
       "</p>\n",
       "\n",
       "\n",
       "<h3>References</h3>\n",
       "\n",
       "<p>Becker, R. A., Chambers, J. M. and Wilks, A. R. (1988)\n",
       "<em>The New S Language</em>.\n",
       "Wadsworth &amp; Brooks/Cole.\n",
       "</p>\n",
       "\n",
       "\n",
       "<h3>See Also</h3>\n",
       "\n",
       "<p><code>weighted.mean</code>, <code>mean.POSIXct</code>,\n",
       "<code>colMeans</code> for row and column means.\n",
       "</p>\n",
       "\n",
       "\n",
       "<h3>Examples</h3>\n",
       "\n",
       "<pre>\n",
       "x &lt;- c(0:10, 50)\n",
       "xm &lt;- mean(x)\n",
       "c(xm, mean(x, trim = 0.10))\n",
       "</pre>\n",
       "\n",
       "<hr /><div style=\"text-align: center;\">[Package <em>base</em> version 3.2.4 ]</div>"
      ],
      "text/latex": [
       "\\inputencoding{utf8}\n",
       "\\HeaderA{mean}{Arithmetic Mean}{mean}\n",
       "\\methaliasA{mean.default}{mean}{mean.default}\n",
       "\\keyword{univar}{mean}\n",
       "%\n",
       "\\begin{Description}\\relax\n",
       "Generic function for the (trimmed) arithmetic mean.\n",
       "\\end{Description}\n",
       "%\n",
       "\\begin{Usage}\n",
       "\\begin{verbatim}\n",
       "mean(x, ...)\n",
       "\n",
       "## Default S3 method:\n",
       "mean(x, trim = 0, na.rm = FALSE, ...)\n",
       "\\end{verbatim}\n",
       "\\end{Usage}\n",
       "%\n",
       "\\begin{Arguments}\n",
       "\\begin{ldescription}\n",
       "\\item[\\code{x}] An \\R{} object.  Currently there are methods for\n",
       "numeric/logical vectors and \\LinkA{date}{Dates},\n",
       "\\LinkA{date-time}{date.Rdash.time} and \\LinkA{time interval}{time interval} objects.  Complex vectors\n",
       "are allowed for \\code{trim = 0}, only.\n",
       "\\item[\\code{trim}] the fraction (0 to 0.5) of observations to be\n",
       "trimmed from each end of \\code{x} before the mean is computed.\n",
       "Values of trim outside that range are taken as the nearest endpoint.\n",
       "\n",
       "\\item[\\code{na.rm}] a logical value indicating whether \\code{NA}\n",
       "values should be stripped before the computation proceeds.\n",
       "\\item[\\code{...}] further arguments passed to or from other methods.\n",
       "\\end{ldescription}\n",
       "\\end{Arguments}\n",
       "%\n",
       "\\begin{Value}\n",
       "If \\code{trim} is zero (the default), the arithmetic mean of the\n",
       "values in \\code{x} is computed, as a numeric or complex vector of\n",
       "length one.  If \\code{x} is not logical (coerced to numeric), numeric\n",
       "(including integer) or complex, \\code{NA\\_real\\_} is returned, with a warning.\n",
       "\n",
       "If \\code{trim} is non-zero, a symmetrically trimmed mean is computed\n",
       "with a fraction of \\code{trim} observations deleted from each end\n",
       "before the mean is computed.\n",
       "\\end{Value}\n",
       "%\n",
       "\\begin{References}\\relax\n",
       "Becker, R. A., Chambers, J. M. and Wilks, A. R. (1988)\n",
       "\\emph{The New S Language}.\n",
       "Wadsworth \\& Brooks/Cole.\n",
       "\\end{References}\n",
       "%\n",
       "\\begin{SeeAlso}\\relax\n",
       "\\code{\\LinkA{weighted.mean}{weighted.mean}}, \\code{\\LinkA{mean.POSIXct}{mean.POSIXct}},\n",
       "\\code{\\LinkA{colMeans}{colMeans}} for row and column means.\n",
       "\\end{SeeAlso}\n",
       "%\n",
       "\\begin{Examples}\n",
       "\\begin{ExampleCode}\n",
       "x <- c(0:10, 50)\n",
       "xm <- mean(x)\n",
       "c(xm, mean(x, trim = 0.10))\n",
       "\\end{ExampleCode}\n",
       "\\end{Examples}"
      ],
      "text/plain": [
       "mean                   package:base                    R Documentation\n",
       "\n",
       "_\bA_\br_\bi_\bt_\bh_\bm_\be_\bt_\bi_\bc _\bM_\be_\ba_\bn\n",
       "\n",
       "_\bD_\be_\bs_\bc_\br_\bi_\bp_\bt_\bi_\bo_\bn:\n",
       "\n",
       "     Generic function for the (trimmed) arithmetic mean.\n",
       "\n",
       "_\bU_\bs_\ba_\bg_\be:\n",
       "\n",
       "     mean(x, ...)\n",
       "     \n",
       "     ## Default S3 method:\n",
       "     mean(x, trim = 0, na.rm = FALSE, ...)\n",
       "     \n",
       "_\bA_\br_\bg_\bu_\bm_\be_\bn_\bt_\bs:\n",
       "\n",
       "       x: An R object.  Currently there are methods for numeric/logical\n",
       "          vectors and date, date-time and time interval objects.\n",
       "          Complex vectors are allowed for ‘trim = 0’, only.\n",
       "\n",
       "    trim: the fraction (0 to 0.5) of observations to be trimmed from\n",
       "          each end of ‘x’ before the mean is computed.  Values of trim\n",
       "          outside that range are taken as the nearest endpoint.\n",
       "\n",
       "   na.rm: a logical value indicating whether ‘NA’ values should be\n",
       "          stripped before the computation proceeds.\n",
       "\n",
       "     ...: further arguments passed to or from other methods.\n",
       "\n",
       "_\bV_\ba_\bl_\bu_\be:\n",
       "\n",
       "     If ‘trim’ is zero (the default), the arithmetic mean of the values\n",
       "     in ‘x’ is computed, as a numeric or complex vector of length one.\n",
       "     If ‘x’ is not logical (coerced to numeric), numeric (including\n",
       "     integer) or complex, ‘NA_real_’ is returned, with a warning.\n",
       "\n",
       "     If ‘trim’ is non-zero, a symmetrically trimmed mean is computed\n",
       "     with a fraction of ‘trim’ observations deleted from each end\n",
       "     before the mean is computed.\n",
       "\n",
       "_\bR_\be_\bf_\be_\br_\be_\bn_\bc_\be_\bs:\n",
       "\n",
       "     Becker, R. A., Chambers, J. M. and Wilks, A. R. (1988) _The New S\n",
       "     Language_.  Wadsworth & Brooks/Cole.\n",
       "\n",
       "_\bS_\be_\be _\bA_\bl_\bs_\bo:\n",
       "\n",
       "     ‘weighted.mean’, ‘mean.POSIXct’, ‘colMeans’ for row and column\n",
       "     means.\n",
       "\n",
       "_\bE_\bx_\ba_\bm_\bp_\bl_\be_\bs:\n",
       "\n",
       "     x <- c(0:10, 50)\n",
       "     xm <- mean(x)\n",
       "     c(xm, mean(x, trim = 0.10))\n",
       "     "
      ]
     },
     "execution_count": 6,
     "metadata": {},
     "output_type": "execute_result"
    }
   ],
   "source": [
    "help(mean)"
   ]
  },
  {
   "cell_type": "code",
   "execution_count": null,
   "metadata": {
    "collapsed": true
   },
   "outputs": [],
   "source": []
  }
 ],
 "metadata": {
  "kernelspec": {
   "display_name": "R",
   "language": "R",
   "name": "ir"
  },
  "language_info": {
   "codemirror_mode": "r",
   "file_extension": ".r",
   "mimetype": "text/x-r-source",
   "name": "R",
   "pygments_lexer": "r",
   "version": "3.2.4"
  }
 },
 "nbformat": 4,
 "nbformat_minor": 0
}
